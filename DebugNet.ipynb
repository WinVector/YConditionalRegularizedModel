{
 "cells": [
  {
   "cell_type": "code",
   "execution_count": 1,
   "metadata": {
    "pycharm": {
     "is_executing": false
    }
   },
   "outputs": [
    {
     "name": "stdout",
     "output_type": "stream",
     "text": [
      "WARNING:tensorflow:From /Users/johnmount/opt/anaconda3/envs/ai_academy_3_7/lib/python3.7/site-packages/tensorflow_core/python/ops/resource_variable_ops.py:1630: calling BaseResourceVariable.__init__ (from tensorflow.python.ops.resource_variable_ops) with constraint is deprecated and will be removed in a future version.\n",
      "Instructions for updating:\n",
      "If using Keras pass *_constraint arguments to layers.\n",
      "Model: \"model\"\n",
      "__________________________________________________________________________________________________\n",
      "Layer (type)                    Output Shape         Param #     Connected to                     \n",
      "==================================================================================================\n",
      "input_1 (InputLayer)            [(None, 4)]          0                                            \n",
      "__________________________________________________________________________________________________\n",
      "trimming_layer (TrimmingLayer)  (None, 3)            0           input_1[0][0]                    \n",
      "__________________________________________________________________________________________________\n",
      "dense (Dense)                   (None, 2)            8           trimming_layer[0][0]             \n",
      "__________________________________________________________________________________________________\n",
      "dense_1 (Dense)                 (None, 1)            3           dense[0][0]                      \n",
      "__________________________________________________________________________________________________\n",
      "scoring_layer (ScoringLayer)    (None, 1)            0           input_1[0][0]                    \n",
      "                                                                 dense[0][0]                      \n",
      "                                                                 dense_1[0][0]                    \n",
      "==================================================================================================\n",
      "Total params: 11\n",
      "Trainable params: 11\n",
      "Non-trainable params: 0\n",
      "__________________________________________________________________________________________________\n"
     ]
    }
   ],
   "source": [
    "from numpy import array, float32\n",
    "\n",
    "import pandas\n",
    "\n",
    "from tensorflow.keras.layers import Dense\n",
    "\n",
    "from YConditionalRegularizedModel import YConditionalRegularizedModel\n",
    "\n",
    "\n",
    "model = YConditionalRegularizedModel.create_model_loss_adapted(\n",
    "    steps = [\n",
    "        3, # input vector width\n",
    "        Dense(2, activation='relu'),\n",
    "        Dense(1, activation='sigmoid'),\n",
    "    ],\n",
    "    alpha=0.1,\n",
    "    debug=True)\n",
    "\n",
    "model.summary()"
   ]
  },
  {
   "cell_type": "code",
   "execution_count": 2,
   "metadata": {
    "collapsed": false,
    "jupyter": {
     "outputs_hidden": false
    },
    "pycharm": {
     "is_executing": false,
     "name": "#%%\n"
    }
   },
   "outputs": [
    {
     "data": {
      "text/plain": [
       "[array([[-0.68027806,  0.31037056],\n",
       "        [-0.30974537,  0.81506944],\n",
       "        [ 0.2706859 , -0.88280135]], dtype=float32),\n",
       " array([0.1, 0.2], dtype=float32),\n",
       " array([[-0.7395919],\n",
       "        [ 1.1062165]], dtype=float32),\n",
       " array([0.3], dtype=float32)]"
      ]
     },
     "execution_count": 2,
     "metadata": {},
     "output_type": "execute_result"
    }
   ],
   "source": [
    "wts = [\n",
    "     array([[-0.68027806,  0.31037056],\n",
    "            [-0.30974537,  0.81506944],\n",
    "            [ 0.2706859 , -0.88280135]], dtype=float32),\n",
    "     array([0.1, 0.2], dtype=float32),\n",
    "     array([[-0.7395919],\n",
    "            [ 1.1062165]], dtype=float32),\n",
    "     array([0.3], dtype=float32)\n",
    "    ]\n",
    "\n",
    "model.set_weights(wts)\n",
    "\n",
    "model.get_weights()"
   ]
  },
  {
   "cell_type": "code",
   "execution_count": 3,
   "metadata": {
    "collapsed": false,
    "jupyter": {
     "outputs_hidden": false
    },
    "pycharm": {
     "is_executing": false,
     "name": "#%%\n"
    }
   },
   "outputs": [
    {
     "data": {
      "text/html": [
       "<div>\n",
       "<style scoped>\n",
       "    .dataframe tbody tr th:only-of-type {\n",
       "        vertical-align: middle;\n",
       "    }\n",
       "\n",
       "    .dataframe tbody tr th {\n",
       "        vertical-align: top;\n",
       "    }\n",
       "\n",
       "    .dataframe thead th {\n",
       "        text-align: right;\n",
       "    }\n",
       "</style>\n",
       "<table border=\"1\" class=\"dataframe\">\n",
       "  <thead>\n",
       "    <tr style=\"text-align: right;\">\n",
       "      <th></th>\n",
       "      <th>x1</th>\n",
       "      <th>x2</th>\n",
       "      <th>x3</th>\n",
       "      <th>y</th>\n",
       "    </tr>\n",
       "  </thead>\n",
       "  <tbody>\n",
       "    <tr>\n",
       "      <th>0</th>\n",
       "      <td>1</td>\n",
       "      <td>1</td>\n",
       "      <td>0</td>\n",
       "      <td>1</td>\n",
       "    </tr>\n",
       "    <tr>\n",
       "      <th>1</th>\n",
       "      <td>2</td>\n",
       "      <td>0</td>\n",
       "      <td>0</td>\n",
       "      <td>0</td>\n",
       "    </tr>\n",
       "    <tr>\n",
       "      <th>2</th>\n",
       "      <td>3</td>\n",
       "      <td>1</td>\n",
       "      <td>1</td>\n",
       "      <td>1</td>\n",
       "    </tr>\n",
       "  </tbody>\n",
       "</table>\n",
       "</div>"
      ],
      "text/plain": [
       "   x1  x2  x3  y\n",
       "0   1   1   0  1\n",
       "1   2   0   0  0\n",
       "2   3   1   1  1"
      ]
     },
     "execution_count": 3,
     "metadata": {},
     "output_type": "execute_result"
    }
   ],
   "source": [
    "d = pandas.DataFrame({\n",
    "        'x1': [1, 2, 3],\n",
    "        'x2': [1, 0, 1],\n",
    "        'x3': [0, 0, 1],\n",
    "        'y': [1, 0, 1]\n",
    "    })\n",
    "\n",
    "d"
   ]
  },
  {
   "cell_type": "code",
   "execution_count": 4,
   "metadata": {
    "collapsed": false,
    "jupyter": {
     "outputs_hidden": false
    },
    "pycharm": {
     "is_executing": false,
     "name": "#%%\n"
    }
   },
   "outputs": [
    {
     "name": "stdout",
     "output_type": "stream",
     "text": [
      "000 y_true [[1]\n",
      " [0]\n",
      " [1]]\n",
      "003 xij(y=1, i=1, j=0) [[-0]\n",
      " [-0]\n",
      " [-0]]\n",
      "016 xij(y=1, i=1, j=1) [[1.32544]\n",
      " [0.820741117]\n",
      " [1.06337976]]\n",
      "001 y_pred [[0.853987396]\n",
      " [0.769930243]\n",
      " [0.814017415]]\n",
      "019 xij(y=0, i=1, j=1) [[1.32544]\n",
      " [0.820741117]\n",
      " [1.06337976]]\n",
      "017 xij_conditional(y=1, i=1, j=1) [[1.32544]\n",
      " [0]\n",
      " [1.06337976]]\n",
      "004 xij_conditional(y=1, i=1, j=0) [[-0]\n",
      " [-0]\n",
      " [-0]]\n",
      "002 entropy loss [[0.157838851]\n",
      " [1.46937275]\n",
      " [0.205773517]]\n",
      "006 xij(y=0, i=1, j=0) [[-0]\n",
      " [-0]\n",
      " [-0]]\n",
      "005 xbar(y=1, i=1, j=0) 0\n",
      "020 xij_conditional(y=0, i=1, j=1) [[0]\n",
      " [0.820741117]\n",
      " [0]]\n",
      "018 xbar(y=1, i=1, j=1) 1.19440925\n",
      "021 xbar(y=0, i=1, j=1) 0.820740342\n",
      "010 diff_ij(y=1, i=1, j=0) [[-0]\n",
      " [-0]\n",
      " [-0]]\n",
      "007 xij_conditional(y=0, i=1, j=0) [[-0]\n",
      " [-0]\n",
      " [-0]]\n",
      "023 diff_ij(y=1, i=1, j=1) [[0.131030798]\n",
      " [-0.373668134]\n",
      " [-0.131029487]]\n",
      "011 diff_ij_conditional(y=1, i=1, j=0) [[-0]\n",
      " [-0]\n",
      " [-0]]\n",
      "008 xbar(y=0, i=1, j=0) 0\n",
      "022 mean_sq_diff(i=1, j=1) 0.14962846\n",
      "024 diff_ij_conditional(y=1, i=1, j=1) [[0.131030798]\n",
      " [-0]\n",
      " [-0.131029487]]\n",
      "026 diff_ij(y=0, i=1, j=1) [[0.504699707]\n",
      " [7.74860382e-07]\n",
      " [0.242639422]]\n",
      "009 mean_sq_diff(i=1, j=0) 0.01\n",
      "013 diff_ij(y=0, i=1, j=0) [[-0]\n",
      " [-0]\n",
      " [-0]]\n",
      "025 conditional_var(y=1, i=1, j=1) * 0.05 [[0.114744678]\n",
      " [0]\n",
      " [0.114742391]]\n",
      "027 diff_ij_conditional(y=0, i=1, j=1) [[0]\n",
      " [7.74860382e-07]\n",
      " [0]]\n",
      "012 conditional_var(y=1, i=1, j=0) * 0.05 [[0]\n",
      " [0]\n",
      " [0]]\n",
      "014 diff_ij_conditional(y=0, i=1, j=0) [[-0]\n",
      " [-0]\n",
      " [-0]]\n",
      "028 conditional_var(y=0, i=1, j=1) * 0.05 [[0]\n",
      " [4.01266303e-12]\n",
      " [0]]\n",
      "015 conditional_var(y=0, i=1, j=0) * 0.05 [[0]\n",
      " [0]\n",
      " [0]]\n",
      "029 variational loss [[0.00573723391]\n",
      " [2.00633157e-13]\n",
      " [0.00573712]]\n",
      "030 final squared loss [[0.163576081]\n",
      " [1.46937275]\n",
      " [0.211510643]]\n",
      "031 final loss [[0.40444541]\n",
      " [1.21217692]\n",
      " [0.459902853]]\n"
     ]
    },
    {
     "data": {
      "text/plain": [
       "array([[0.4044454 ],\n",
       "       [1.2121769 ],\n",
       "       [0.45990285]], dtype=float32)"
      ]
     },
     "execution_count": 4,
     "metadata": {},
     "output_type": "execute_result"
    }
   ],
   "source": [
    "preds = model.predict(d.values)\n",
    "\n",
    "preds\n"
   ]
  }
 ],
 "metadata": {
  "kernelspec": {
   "display_name": "Python 3",
   "language": "python",
   "name": "python3"
  },
  "language_info": {
   "codemirror_mode": {
    "name": "ipython",
    "version": 3
   },
   "file_extension": ".py",
   "mimetype": "text/x-python",
   "name": "python",
   "nbconvert_exporter": "python",
   "pygments_lexer": "ipython3",
   "version": "3.7.5"
  },
  "pycharm": {
   "stem_cell": {
    "cell_type": "raw",
    "metadata": {
     "collapsed": false
    },
    "source": []
   }
  }
 },
 "nbformat": 4,
 "nbformat_minor": 4
}
